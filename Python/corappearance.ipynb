{
 "cells": [
  {
   "cell_type": "code",
   "execution_count": 1,
   "metadata": {
    "collapsed": false
   },
   "outputs": [
    {
     "data": {
      "text/plain": [
       "265967"
      ]
     },
     "execution_count": 1,
     "metadata": {},
     "output_type": "execute_result"
    }
   ],
   "source": [
    "import os\n",
    "\n",
    "urlDict = {}\n",
    "\n",
    "with open(\"reInfo.csv\", \"rb\") as f:\n",
    "    next(f)\n",
    "    for line in f:\n",
    "        data = line.strip().split(\",\")\n",
    "        if len(data) != 2:\n",
    "            continue\n",
    "        url = data[0]\n",
    "        keyword = data[1]\n",
    "        if not urlDict.get(url):\n",
    "            urlDict[url] = set()\n",
    "        urlDict[url].add(keyword)\n",
    "\n",
    "len(urlDict)"
   ]
  },
  {
   "cell_type": "code",
   "execution_count": 5,
   "metadata": {
    "collapsed": false
   },
   "outputs": [
    {
     "name": "stdout",
     "output_type": "stream",
     "text": [
      "盆腔炎|铁元素 1\n"
     ]
    }
   ],
   "source": [
    "weight = {}\n",
    "for url, kws in urlDict.items():\n",
    "    if len(kws) < 2:\n",
    "        continue\n",
    "    kws = list(kws)\n",
    "    for i in range(len(kws)):\n",
    "        for j in range(i+1, len(kws)):\n",
    "            key = [kws[i], kws[j]]\n",
    "            key.sort()\n",
    "            k = \"|\".join(key)\n",
    "            weight[k] = weight.get(k, 0) + 1\n",
    "\n",
    "for key, count in weight.items():\n",
    "    print key , count\n",
    "    break"
   ]
  },
  {
   "cell_type": "code",
   "execution_count": 3,
   "metadata": {
    "collapsed": true
   },
   "outputs": [],
   "source": [
    "\n",
    "with open(\"corappearance.txt\", \"wb\") as writer:\n",
    "    writer.write(\"source\\ttarget\\n\")\n",
    "    for key, value in weight.items():\n",
    "        key = key.strip().split(\"|\")\n",
    "        source, target = key\n",
    "        writer.write(\"{0}\\t{1}\\t{2}\\n\".format(source, target, value))\n",
    "    "
   ]
  },
  {
   "cell_type": "code",
   "execution_count": null,
   "metadata": {
    "collapsed": true
   },
   "outputs": [],
   "source": []
  }
 ],
 "metadata": {
  "kernelspec": {
   "display_name": "Python 2",
   "language": "python",
   "name": "python2"
  },
  "language_info": {
   "codemirror_mode": {
    "name": "ipython",
    "version": 2
   },
   "file_extension": ".py",
   "mimetype": "text/x-python",
   "name": "python",
   "nbconvert_exporter": "python",
   "pygments_lexer": "ipython2",
   "version": "2.7.11"
  }
 },
 "nbformat": 4,
 "nbformat_minor": 0
}
